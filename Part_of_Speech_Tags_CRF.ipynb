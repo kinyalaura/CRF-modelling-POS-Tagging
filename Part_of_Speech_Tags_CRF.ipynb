{
  "nbformat": 4,
  "nbformat_minor": 0,
  "metadata": {
    "colab": {
      "name": "Part of Speech Tags. CRF.ipynb",
      "provenance": []
    },
    "kernelspec": {
      "name": "python3",
      "display_name": "Python 3"
    }
  },
  "cells": [
    {
      "cell_type": "markdown",
      "metadata": {
        "id": "dpHf7T48squ8"
      },
      "source": [
        "# Importing the necessary libraries"
      ]
    },
    {
      "cell_type": "code",
      "metadata": {
        "id": "VEdqMyHzoKF3"
      },
      "source": [
        "import nltk, re, pprint\n",
        "import numpy as np\n",
        "import pandas as pd\n",
        "import requests\n",
        "import matplotlib.pyplot as plt\n",
        "import seaborn as sns\n",
        "import pprint, time\n",
        "import random\n",
        "from sklearn.model_selection import train_test_split\n",
        "from nltk.tokenize import word_tokenize\n",
        "from collections import Counter"
      ],
      "execution_count": 1,
      "outputs": []
    },
    {
      "cell_type": "code",
      "metadata": {
        "colab": {
          "base_uri": "https://localhost:8080/"
        },
        "id": "ROQ8mPwurJmz",
        "outputId": "c2a1a611-3346-4f92-b004-b0abdeed4e93"
      },
      "source": [
        "!pip install sklearn_crfsuite"
      ],
      "execution_count": 2,
      "outputs": [
        {
          "output_type": "stream",
          "text": [
            "Collecting sklearn_crfsuite\n",
            "  Downloading https://files.pythonhosted.org/packages/25/74/5b7befa513482e6dee1f3dd68171a6c9dfc14c0eaa00f885ffeba54fe9b0/sklearn_crfsuite-0.3.6-py2.py3-none-any.whl\n",
            "Collecting python-crfsuite>=0.8.3\n",
            "\u001b[?25l  Downloading https://files.pythonhosted.org/packages/95/99/869dde6dbf3e0d07a013c8eebfb0a3d30776334e0097f8432b631a9a3a19/python_crfsuite-0.9.7-cp36-cp36m-manylinux1_x86_64.whl (743kB)\n",
            "\u001b[K     |████████████████████████████████| 747kB 4.1MB/s \n",
            "\u001b[?25hRequirement already satisfied: tqdm>=2.0 in /usr/local/lib/python3.6/dist-packages (from sklearn_crfsuite) (4.41.1)\n",
            "Requirement already satisfied: six in /usr/local/lib/python3.6/dist-packages (from sklearn_crfsuite) (1.15.0)\n",
            "Requirement already satisfied: tabulate in /usr/local/lib/python3.6/dist-packages (from sklearn_crfsuite) (0.8.7)\n",
            "Installing collected packages: python-crfsuite, sklearn-crfsuite\n",
            "Successfully installed python-crfsuite-0.9.7 sklearn-crfsuite-0.3.6\n"
          ],
          "name": "stdout"
        }
      ]
    },
    {
      "cell_type": "code",
      "metadata": {
        "id": "_qYs9q0RrTUg"
      },
      "source": [
        "from sklearn_crfsuite import CRF\n",
        "from sklearn_crfsuite import metrics\n",
        "from sklearn_crfsuite import scorers"
      ],
      "execution_count": 3,
      "outputs": []
    },
    {
      "cell_type": "markdown",
      "metadata": {
        "id": "WMNSganhszsD"
      },
      "source": [
        "# Downloading the Dataset\n",
        "The dataset we will use in the PennTree Bank Corpus, with the universal Tag Set.\n",
        "\n",
        "We will use the NLTK Treebank dataset with the Universal Tagset. The Universal tagset of NLTK comprises of 12 tag classes: Verb, Noun, Pronouns, Adjectives, Adverbs, Adpositions, Conjunctions, Determiners, Cardinal Numbers, Particles, Other/ Foreign words, Punctuations. This dataset has 3,914 tagged sentences and a vocabulary of 12,408 words."
      ]
    },
    {
      "cell_type": "code",
      "metadata": {
        "colab": {
          "base_uri": "https://localhost:8080/"
        },
        "id": "3fyEeg96tVro",
        "outputId": "4252de05-5ffa-42f9-e0bb-fe2a8d8d8adb"
      },
      "source": [
        "import nltk\n",
        "nltk.download('universal_tagset')"
      ],
      "execution_count": 4,
      "outputs": [
        {
          "output_type": "stream",
          "text": [
            "[nltk_data] Downloading package universal_tagset to /root/nltk_data...\n",
            "[nltk_data]   Unzipping taggers/universal_tagset.zip.\n"
          ],
          "name": "stdout"
        },
        {
          "output_type": "execute_result",
          "data": {
            "text/plain": [
              "True"
            ]
          },
          "metadata": {
            "tags": []
          },
          "execution_count": 4
        }
      ]
    },
    {
      "cell_type": "code",
      "metadata": {
        "colab": {
          "base_uri": "https://localhost:8080/"
        },
        "id": "XI3UKwG-rZ5N",
        "outputId": "62840384-bcdc-4cee-bcbc-0d2a3bc017be"
      },
      "source": [
        "import nltk\n",
        "nltk.download('treebank')\n",
        "tagged_sentence = nltk.corpus.treebank.tagged_sents(tagset='universal')"
      ],
      "execution_count": 5,
      "outputs": [
        {
          "output_type": "stream",
          "text": [
            "[nltk_data] Downloading package treebank to /root/nltk_data...\n",
            "[nltk_data]   Unzipping corpora/treebank.zip.\n"
          ],
          "name": "stdout"
        }
      ]
    },
    {
      "cell_type": "code",
      "metadata": {
        "colab": {
          "base_uri": "https://localhost:8080/"
        },
        "id": "xeefaXiHshHl",
        "outputId": "f19c0e3c-a561-43ed-dbff-ad3e5d56251a"
      },
      "source": [
        "print(\"Number of Tagged Sentences \",len(tagged_sentence))\n",
        "tagged_words=[tup for sent in tagged_sentence for tup in sent]\n",
        "print(\"Total Number of Tagged words\", len(tagged_words))\n",
        "vocab=set([word for word,tag in tagged_words])\n",
        "print(\"Vocabulary of the Corpus\",len(vocab))\n",
        "tags=set([tag for word,tag in tagged_words])\n",
        "print(\"Number of Tags in the Corpus \",len(tags))"
      ],
      "execution_count": 6,
      "outputs": [
        {
          "output_type": "stream",
          "text": [
            "Number of Tagged Sentences  3914\n",
            "Total Number of Tagged words 100676\n",
            "Vocabulary of the Corpus 12408\n",
            "Number of Tags in the Corpus  12\n"
          ],
          "name": "stdout"
        }
      ]
    },
    {
      "cell_type": "markdown",
      "metadata": {
        "id": "ESnDjo6muBvZ"
      },
      "source": [
        "# Splitting the dataset into training and test\n",
        "\n",
        "Next, we will split the data into Training and Test data in a 70:30 ratio "
      ]
    },
    {
      "cell_type": "code",
      "metadata": {
        "colab": {
          "base_uri": "https://localhost:8080/"
        },
        "id": "DoL06lO9t4zb",
        "outputId": "f7a6407a-baad-49e6-8d05-1428f9a97681"
      },
      "source": [
        "train_set, test_set = train_test_split(tagged_sentence,test_size=0.3,random_state=123)\n",
        "print(\"Number of Sentences in Training Data \",len(train_set))\n",
        "print(\"Number of Sentences in Testing Data \",len(test_set))"
      ],
      "execution_count": 7,
      "outputs": [
        {
          "output_type": "stream",
          "text": [
            "Number of Sentences in Training Data  2739\n",
            "Number of Sentences in Testing Data  1175\n"
          ],
          "name": "stdout"
        }
      ]
    },
    {
      "cell_type": "markdown",
      "metadata": {
        "id": "1Gb3gsLxojxG"
      },
      "source": [
        "2739 sentences in the training set and 1175 sentences in the test set"
      ]
    },
    {
      "cell_type": "markdown",
      "metadata": {
        "id": "bAFnZPzno6QN"
      },
      "source": [
        "# Creating the Feature Function\n",
        "\n",
        "For identifying POS tags, we will create a function which returns a dictionary with the following features for each word in a sentence:\n",
        "\n",
        "Is the first letter of the word capitalised (Generally Proper Nouns have the first letter capitalised)?\n",
        "\n",
        "Is it the first word of the sentence?\n",
        "\n",
        "Is it the last word of the sentence\n",
        "\n",
        "Does the word contain both numbers and alphabets?\n",
        "\n",
        "Does it have a hyphen (generally, adjectives have hyphens - for example, words like fast-growing, slow-moving)\n",
        "\n",
        "Is the complete word capitalised?\n",
        "\n",
        "Is it a number?\n",
        "\n",
        "What are the first four suffixes and prefixes?(words ending with “ed” are generally verbs, words ending with “ous” like disastrous are adjectives)"
      ]
    },
    {
      "cell_type": "code",
      "metadata": {
        "id": "JQCdvIAIuWwK"
      },
      "source": [
        "def features(sentence,index):\n",
        "    ### sentence is of the form [w1,w2,w3,..], index is the position of the word in the sentence\n",
        "    return {\n",
        "        'is_first_capital':int(sentence[index][0].isupper()),\n",
        "        'is_first_word': int(index==0),\n",
        "        'is_last_word':int(index==len(sentence)-1),\n",
        "        'is_complete_capital': int(sentence[index].upper()==sentence[index]),\n",
        "        'prev_word':'' if index==0 else sentence[index-1],\n",
        "        'next_word':'' if index==len(sentence)-1 else sentence[index+1],\n",
        "        'is_numeric':int(sentence[index].isdigit()),\n",
        "        'is_alphanumeric': int(bool((re.match('^(?=.*[0-9]$)(?=.*[a-zA-Z])',sentence[index])))),\n",
        "        'prefix_1':sentence[index][0],\n",
        "        'prefix_2': sentence[index][:2],\n",
        "        'prefix_3':sentence[index][:3],\n",
        "        'prefix_4':sentence[index][:4],\n",
        "        'suffix_1':sentence[index][-1],\n",
        "        'suffix_2':sentence[index][-2:],\n",
        "        'suffix_3':sentence[index][-3:],\n",
        "        'suffix_4':sentence[index][-4:],\n",
        "        'word_has_hyphen': 1 if '-' in sentence[index] else 0}\n",
        "        "
      ],
      "execution_count": 9,
      "outputs": []
    },
    {
      "cell_type": "code",
      "metadata": {
        "id": "jLUx9rRlkaQd"
      },
      "source": [
        "def untag(sentence):\n",
        "    return [word for word,tag in sentence]\n",
        "\n",
        "\n",
        "def prepareData(tagged_sentences):\n",
        "    X,y=[],[]\n",
        "    for sentences in tagged_sentences:\n",
        "        X.append([features(untag(sentences), index) for index in range(len(sentences))])\n",
        "        y.append([tag for word,tag in sentences])\n",
        "    return X,y"
      ],
      "execution_count": 10,
      "outputs": []
    },
    {
      "cell_type": "code",
      "metadata": {
        "id": "aGO4HOA8khlH"
      },
      "source": [
        "X_train,y_train=prepareData(train_set)\n",
        "X_test,y_test=prepareData(test_set)"
      ],
      "execution_count": 11,
      "outputs": []
    },
    {
      "cell_type": "code",
      "metadata": {
        "colab": {
          "base_uri": "https://localhost:8080/"
        },
        "id": "h5sUNkefknZC",
        "outputId": "76c288c0-efc1-4739-f7a4-49ae939211dd"
      },
      "source": [
        "X_train[0]"
      ],
      "execution_count": 12,
      "outputs": [
        {
          "output_type": "execute_result",
          "data": {
            "text/plain": [
              "[{'is_alphanumeric': 0,\n",
              "  'is_complete_capital': 0,\n",
              "  'is_first_capital': 1,\n",
              "  'is_first_word': 1,\n",
              "  'is_last_word': 0,\n",
              "  'is_numeric': 0,\n",
              "  'next_word': 'Fairlawn',\n",
              "  'prefix_1': 'T',\n",
              "  'prefix_2': 'Th',\n",
              "  'prefix_3': 'The',\n",
              "  'prefix_4': 'The',\n",
              "  'prev_word': '',\n",
              "  'suffix_1': 'e',\n",
              "  'suffix_2': 'he',\n",
              "  'suffix_3': 'The',\n",
              "  'suffix_4': 'The',\n",
              "  'word_has_hyphen': 0},\n",
              " {'is_alphanumeric': 0,\n",
              "  'is_complete_capital': 0,\n",
              "  'is_first_capital': 1,\n",
              "  'is_first_word': 0,\n",
              "  'is_last_word': 0,\n",
              "  'is_numeric': 0,\n",
              "  'next_word': ',',\n",
              "  'prefix_1': 'F',\n",
              "  'prefix_2': 'Fa',\n",
              "  'prefix_3': 'Fai',\n",
              "  'prefix_4': 'Fair',\n",
              "  'prev_word': 'The',\n",
              "  'suffix_1': 'n',\n",
              "  'suffix_2': 'wn',\n",
              "  'suffix_3': 'awn',\n",
              "  'suffix_4': 'lawn',\n",
              "  'word_has_hyphen': 0},\n",
              " {'is_alphanumeric': 0,\n",
              "  'is_complete_capital': 1,\n",
              "  'is_first_capital': 0,\n",
              "  'is_first_word': 0,\n",
              "  'is_last_word': 0,\n",
              "  'is_numeric': 0,\n",
              "  'next_word': 'Ohio-based',\n",
              "  'prefix_1': ',',\n",
              "  'prefix_2': ',',\n",
              "  'prefix_3': ',',\n",
              "  'prefix_4': ',',\n",
              "  'prev_word': 'Fairlawn',\n",
              "  'suffix_1': ',',\n",
              "  'suffix_2': ',',\n",
              "  'suffix_3': ',',\n",
              "  'suffix_4': ',',\n",
              "  'word_has_hyphen': 0},\n",
              " {'is_alphanumeric': 0,\n",
              "  'is_complete_capital': 0,\n",
              "  'is_first_capital': 1,\n",
              "  'is_first_word': 0,\n",
              "  'is_last_word': 0,\n",
              "  'is_numeric': 0,\n",
              "  'next_word': 'company',\n",
              "  'prefix_1': 'O',\n",
              "  'prefix_2': 'Oh',\n",
              "  'prefix_3': 'Ohi',\n",
              "  'prefix_4': 'Ohio',\n",
              "  'prev_word': ',',\n",
              "  'suffix_1': 'd',\n",
              "  'suffix_2': 'ed',\n",
              "  'suffix_3': 'sed',\n",
              "  'suffix_4': 'ased',\n",
              "  'word_has_hyphen': 1},\n",
              " {'is_alphanumeric': 0,\n",
              "  'is_complete_capital': 0,\n",
              "  'is_first_capital': 0,\n",
              "  'is_first_word': 0,\n",
              "  'is_last_word': 0,\n",
              "  'is_numeric': 0,\n",
              "  'next_word': 'also',\n",
              "  'prefix_1': 'c',\n",
              "  'prefix_2': 'co',\n",
              "  'prefix_3': 'com',\n",
              "  'prefix_4': 'comp',\n",
              "  'prev_word': 'Ohio-based',\n",
              "  'suffix_1': 'y',\n",
              "  'suffix_2': 'ny',\n",
              "  'suffix_3': 'any',\n",
              "  'suffix_4': 'pany',\n",
              "  'word_has_hyphen': 0},\n",
              " {'is_alphanumeric': 0,\n",
              "  'is_complete_capital': 0,\n",
              "  'is_first_capital': 0,\n",
              "  'is_first_word': 0,\n",
              "  'is_last_word': 0,\n",
              "  'is_numeric': 0,\n",
              "  'next_word': 'said',\n",
              "  'prefix_1': 'a',\n",
              "  'prefix_2': 'al',\n",
              "  'prefix_3': 'als',\n",
              "  'prefix_4': 'also',\n",
              "  'prev_word': 'company',\n",
              "  'suffix_1': 'o',\n",
              "  'suffix_2': 'so',\n",
              "  'suffix_3': 'lso',\n",
              "  'suffix_4': 'also',\n",
              "  'word_has_hyphen': 0},\n",
              " {'is_alphanumeric': 0,\n",
              "  'is_complete_capital': 0,\n",
              "  'is_first_capital': 0,\n",
              "  'is_first_word': 0,\n",
              "  'is_last_word': 0,\n",
              "  'is_numeric': 0,\n",
              "  'next_word': 'that',\n",
              "  'prefix_1': 's',\n",
              "  'prefix_2': 'sa',\n",
              "  'prefix_3': 'sai',\n",
              "  'prefix_4': 'said',\n",
              "  'prev_word': 'also',\n",
              "  'suffix_1': 'd',\n",
              "  'suffix_2': 'id',\n",
              "  'suffix_3': 'aid',\n",
              "  'suffix_4': 'said',\n",
              "  'word_has_hyphen': 0},\n",
              " {'is_alphanumeric': 0,\n",
              "  'is_complete_capital': 0,\n",
              "  'is_first_capital': 0,\n",
              "  'is_first_word': 0,\n",
              "  'is_last_word': 0,\n",
              "  'is_numeric': 0,\n",
              "  'next_word': 'full-year',\n",
              "  'prefix_1': 't',\n",
              "  'prefix_2': 'th',\n",
              "  'prefix_3': 'tha',\n",
              "  'prefix_4': 'that',\n",
              "  'prev_word': 'said',\n",
              "  'suffix_1': 't',\n",
              "  'suffix_2': 'at',\n",
              "  'suffix_3': 'hat',\n",
              "  'suffix_4': 'that',\n",
              "  'word_has_hyphen': 0},\n",
              " {'is_alphanumeric': 0,\n",
              "  'is_complete_capital': 0,\n",
              "  'is_first_capital': 0,\n",
              "  'is_first_word': 0,\n",
              "  'is_last_word': 0,\n",
              "  'is_numeric': 0,\n",
              "  'next_word': 'profit',\n",
              "  'prefix_1': 'f',\n",
              "  'prefix_2': 'fu',\n",
              "  'prefix_3': 'ful',\n",
              "  'prefix_4': 'full',\n",
              "  'prev_word': 'that',\n",
              "  'suffix_1': 'r',\n",
              "  'suffix_2': 'ar',\n",
              "  'suffix_3': 'ear',\n",
              "  'suffix_4': 'year',\n",
              "  'word_has_hyphen': 1},\n",
              " {'is_alphanumeric': 0,\n",
              "  'is_complete_capital': 0,\n",
              "  'is_first_capital': 0,\n",
              "  'is_first_word': 0,\n",
              "  'is_last_word': 0,\n",
              "  'is_numeric': 0,\n",
              "  'next_word': 'from',\n",
              "  'prefix_1': 'p',\n",
              "  'prefix_2': 'pr',\n",
              "  'prefix_3': 'pro',\n",
              "  'prefix_4': 'prof',\n",
              "  'prev_word': 'full-year',\n",
              "  'suffix_1': 't',\n",
              "  'suffix_2': 'it',\n",
              "  'suffix_3': 'fit',\n",
              "  'suffix_4': 'ofit',\n",
              "  'word_has_hyphen': 0},\n",
              " {'is_alphanumeric': 0,\n",
              "  'is_complete_capital': 0,\n",
              "  'is_first_capital': 0,\n",
              "  'is_first_word': 0,\n",
              "  'is_last_word': 0,\n",
              "  'is_numeric': 0,\n",
              "  'next_word': 'continuing',\n",
              "  'prefix_1': 'f',\n",
              "  'prefix_2': 'fr',\n",
              "  'prefix_3': 'fro',\n",
              "  'prefix_4': 'from',\n",
              "  'prev_word': 'profit',\n",
              "  'suffix_1': 'm',\n",
              "  'suffix_2': 'om',\n",
              "  'suffix_3': 'rom',\n",
              "  'suffix_4': 'from',\n",
              "  'word_has_hyphen': 0},\n",
              " {'is_alphanumeric': 0,\n",
              "  'is_complete_capital': 0,\n",
              "  'is_first_capital': 0,\n",
              "  'is_first_word': 0,\n",
              "  'is_last_word': 0,\n",
              "  'is_numeric': 0,\n",
              "  'next_word': 'operations',\n",
              "  'prefix_1': 'c',\n",
              "  'prefix_2': 'co',\n",
              "  'prefix_3': 'con',\n",
              "  'prefix_4': 'cont',\n",
              "  'prev_word': 'from',\n",
              "  'suffix_1': 'g',\n",
              "  'suffix_2': 'ng',\n",
              "  'suffix_3': 'ing',\n",
              "  'suffix_4': 'uing',\n",
              "  'word_has_hyphen': 0},\n",
              " {'is_alphanumeric': 0,\n",
              "  'is_complete_capital': 0,\n",
              "  'is_first_capital': 0,\n",
              "  'is_first_word': 0,\n",
              "  'is_last_word': 0,\n",
              "  'is_numeric': 0,\n",
              "  'next_word': 'will',\n",
              "  'prefix_1': 'o',\n",
              "  'prefix_2': 'op',\n",
              "  'prefix_3': 'ope',\n",
              "  'prefix_4': 'oper',\n",
              "  'prev_word': 'continuing',\n",
              "  'suffix_1': 's',\n",
              "  'suffix_2': 'ns',\n",
              "  'suffix_3': 'ons',\n",
              "  'suffix_4': 'ions',\n",
              "  'word_has_hyphen': 0},\n",
              " {'is_alphanumeric': 0,\n",
              "  'is_complete_capital': 0,\n",
              "  'is_first_capital': 0,\n",
              "  'is_first_word': 0,\n",
              "  'is_last_word': 0,\n",
              "  'is_numeric': 0,\n",
              "  'next_word': 'be',\n",
              "  'prefix_1': 'w',\n",
              "  'prefix_2': 'wi',\n",
              "  'prefix_3': 'wil',\n",
              "  'prefix_4': 'will',\n",
              "  'prev_word': 'operations',\n",
              "  'suffix_1': 'l',\n",
              "  'suffix_2': 'll',\n",
              "  'suffix_3': 'ill',\n",
              "  'suffix_4': 'will',\n",
              "  'word_has_hyphen': 0},\n",
              " {'is_alphanumeric': 0,\n",
              "  'is_complete_capital': 0,\n",
              "  'is_first_capital': 0,\n",
              "  'is_first_word': 0,\n",
              "  'is_last_word': 0,\n",
              "  'is_numeric': 0,\n",
              "  'next_word': 'far',\n",
              "  'prefix_1': 'b',\n",
              "  'prefix_2': 'be',\n",
              "  'prefix_3': 'be',\n",
              "  'prefix_4': 'be',\n",
              "  'prev_word': 'will',\n",
              "  'suffix_1': 'e',\n",
              "  'suffix_2': 'be',\n",
              "  'suffix_3': 'be',\n",
              "  'suffix_4': 'be',\n",
              "  'word_has_hyphen': 0},\n",
              " {'is_alphanumeric': 0,\n",
              "  'is_complete_capital': 0,\n",
              "  'is_first_capital': 0,\n",
              "  'is_first_word': 0,\n",
              "  'is_last_word': 0,\n",
              "  'is_numeric': 0,\n",
              "  'next_word': 'below',\n",
              "  'prefix_1': 'f',\n",
              "  'prefix_2': 'fa',\n",
              "  'prefix_3': 'far',\n",
              "  'prefix_4': 'far',\n",
              "  'prev_word': 'be',\n",
              "  'suffix_1': 'r',\n",
              "  'suffix_2': 'ar',\n",
              "  'suffix_3': 'far',\n",
              "  'suffix_4': 'far',\n",
              "  'word_has_hyphen': 0},\n",
              " {'is_alphanumeric': 0,\n",
              "  'is_complete_capital': 0,\n",
              "  'is_first_capital': 0,\n",
              "  'is_first_word': 0,\n",
              "  'is_last_word': 0,\n",
              "  'is_numeric': 0,\n",
              "  'next_word': 'last',\n",
              "  'prefix_1': 'b',\n",
              "  'prefix_2': 'be',\n",
              "  'prefix_3': 'bel',\n",
              "  'prefix_4': 'belo',\n",
              "  'prev_word': 'far',\n",
              "  'suffix_1': 'w',\n",
              "  'suffix_2': 'ow',\n",
              "  'suffix_3': 'low',\n",
              "  'suffix_4': 'elow',\n",
              "  'word_has_hyphen': 0},\n",
              " {'is_alphanumeric': 0,\n",
              "  'is_complete_capital': 0,\n",
              "  'is_first_capital': 0,\n",
              "  'is_first_word': 0,\n",
              "  'is_last_word': 0,\n",
              "  'is_numeric': 0,\n",
              "  'next_word': 'year',\n",
              "  'prefix_1': 'l',\n",
              "  'prefix_2': 'la',\n",
              "  'prefix_3': 'las',\n",
              "  'prefix_4': 'last',\n",
              "  'prev_word': 'below',\n",
              "  'suffix_1': 't',\n",
              "  'suffix_2': 'st',\n",
              "  'suffix_3': 'ast',\n",
              "  'suffix_4': 'last',\n",
              "  'word_has_hyphen': 0},\n",
              " {'is_alphanumeric': 0,\n",
              "  'is_complete_capital': 0,\n",
              "  'is_first_capital': 0,\n",
              "  'is_first_word': 0,\n",
              "  'is_last_word': 0,\n",
              "  'is_numeric': 0,\n",
              "  'next_word': \"'s\",\n",
              "  'prefix_1': 'y',\n",
              "  'prefix_2': 'ye',\n",
              "  'prefix_3': 'yea',\n",
              "  'prefix_4': 'year',\n",
              "  'prev_word': 'last',\n",
              "  'suffix_1': 'r',\n",
              "  'suffix_2': 'ar',\n",
              "  'suffix_3': 'ear',\n",
              "  'suffix_4': 'year',\n",
              "  'word_has_hyphen': 0},\n",
              " {'is_alphanumeric': 0,\n",
              "  'is_complete_capital': 0,\n",
              "  'is_first_capital': 0,\n",
              "  'is_first_word': 0,\n",
              "  'is_last_word': 0,\n",
              "  'is_numeric': 0,\n",
              "  'next_word': '$',\n",
              "  'prefix_1': \"'\",\n",
              "  'prefix_2': \"'s\",\n",
              "  'prefix_3': \"'s\",\n",
              "  'prefix_4': \"'s\",\n",
              "  'prev_word': 'year',\n",
              "  'suffix_1': 's',\n",
              "  'suffix_2': \"'s\",\n",
              "  'suffix_3': \"'s\",\n",
              "  'suffix_4': \"'s\",\n",
              "  'word_has_hyphen': 0},\n",
              " {'is_alphanumeric': 0,\n",
              "  'is_complete_capital': 1,\n",
              "  'is_first_capital': 0,\n",
              "  'is_first_word': 0,\n",
              "  'is_last_word': 0,\n",
              "  'is_numeric': 0,\n",
              "  'next_word': '148',\n",
              "  'prefix_1': '$',\n",
              "  'prefix_2': '$',\n",
              "  'prefix_3': '$',\n",
              "  'prefix_4': '$',\n",
              "  'prev_word': \"'s\",\n",
              "  'suffix_1': '$',\n",
              "  'suffix_2': '$',\n",
              "  'suffix_3': '$',\n",
              "  'suffix_4': '$',\n",
              "  'word_has_hyphen': 0},\n",
              " {'is_alphanumeric': 0,\n",
              "  'is_complete_capital': 1,\n",
              "  'is_first_capital': 0,\n",
              "  'is_first_word': 0,\n",
              "  'is_last_word': 0,\n",
              "  'is_numeric': 1,\n",
              "  'next_word': 'million',\n",
              "  'prefix_1': '1',\n",
              "  'prefix_2': '14',\n",
              "  'prefix_3': '148',\n",
              "  'prefix_4': '148',\n",
              "  'prev_word': '$',\n",
              "  'suffix_1': '8',\n",
              "  'suffix_2': '48',\n",
              "  'suffix_3': '148',\n",
              "  'suffix_4': '148',\n",
              "  'word_has_hyphen': 0},\n",
              " {'is_alphanumeric': 0,\n",
              "  'is_complete_capital': 0,\n",
              "  'is_first_capital': 0,\n",
              "  'is_first_word': 0,\n",
              "  'is_last_word': 0,\n",
              "  'is_numeric': 0,\n",
              "  'next_word': '*U*',\n",
              "  'prefix_1': 'm',\n",
              "  'prefix_2': 'mi',\n",
              "  'prefix_3': 'mil',\n",
              "  'prefix_4': 'mill',\n",
              "  'prev_word': '148',\n",
              "  'suffix_1': 'n',\n",
              "  'suffix_2': 'on',\n",
              "  'suffix_3': 'ion',\n",
              "  'suffix_4': 'lion',\n",
              "  'word_has_hyphen': 0},\n",
              " {'is_alphanumeric': 0,\n",
              "  'is_complete_capital': 1,\n",
              "  'is_first_capital': 0,\n",
              "  'is_first_word': 0,\n",
              "  'is_last_word': 0,\n",
              "  'is_numeric': 0,\n",
              "  'next_word': '.',\n",
              "  'prefix_1': '*',\n",
              "  'prefix_2': '*U',\n",
              "  'prefix_3': '*U*',\n",
              "  'prefix_4': '*U*',\n",
              "  'prev_word': 'million',\n",
              "  'suffix_1': '*',\n",
              "  'suffix_2': 'U*',\n",
              "  'suffix_3': '*U*',\n",
              "  'suffix_4': '*U*',\n",
              "  'word_has_hyphen': 0},\n",
              " {'is_alphanumeric': 0,\n",
              "  'is_complete_capital': 1,\n",
              "  'is_first_capital': 0,\n",
              "  'is_first_word': 0,\n",
              "  'is_last_word': 1,\n",
              "  'is_numeric': 0,\n",
              "  'next_word': '',\n",
              "  'prefix_1': '.',\n",
              "  'prefix_2': '.',\n",
              "  'prefix_3': '.',\n",
              "  'prefix_4': '.',\n",
              "  'prev_word': '*U*',\n",
              "  'suffix_1': '.',\n",
              "  'suffix_2': '.',\n",
              "  'suffix_3': '.',\n",
              "  'suffix_4': '.',\n",
              "  'word_has_hyphen': 0}]"
            ]
          },
          "metadata": {
            "tags": []
          },
          "execution_count": 12
        }
      ]
    },
    {
      "cell_type": "code",
      "metadata": {
        "colab": {
          "base_uri": "https://localhost:8080/"
        },
        "id": "J4t06i-YkwTe",
        "outputId": "042de946-5e08-40ec-cb55-83564e6805c7"
      },
      "source": [
        "y_train[0]"
      ],
      "execution_count": 13,
      "outputs": [
        {
          "output_type": "execute_result",
          "data": {
            "text/plain": [
              "['DET',\n",
              " 'NOUN',\n",
              " '.',\n",
              " 'ADJ',\n",
              " 'NOUN',\n",
              " 'ADV',\n",
              " 'VERB',\n",
              " 'DET',\n",
              " 'ADJ',\n",
              " 'NOUN',\n",
              " 'ADP',\n",
              " 'VERB',\n",
              " 'NOUN',\n",
              " 'VERB',\n",
              " 'VERB',\n",
              " 'ADV',\n",
              " 'ADP',\n",
              " 'ADJ',\n",
              " 'NOUN',\n",
              " 'PRT',\n",
              " '.',\n",
              " 'NUM',\n",
              " 'NUM',\n",
              " 'X',\n",
              " '.']"
            ]
          },
          "metadata": {
            "tags": []
          },
          "execution_count": 13
        }
      ]
    },
    {
      "cell_type": "markdown",
      "metadata": {
        "id": "PrV-IKOOlTl9"
      },
      "source": [
        "# Fitting the CRF model"
      ]
    },
    {
      "cell_type": "code",
      "metadata": {
        "colab": {
          "base_uri": "https://localhost:8080/"
        },
        "id": "exMgpZAolOI_",
        "outputId": "1f535d74-82ee-4766-bdd3-de3261800f2e"
      },
      "source": [
        "crf = CRF(\n",
        "    algorithm='lbfgs',\n",
        "    c1=0.01,\n",
        "    c2=0.1,\n",
        "    max_iterations=100,\n",
        "    all_possible_transitions=True\n",
        ")\n",
        "crf.fit(X_train, y_train)"
      ],
      "execution_count": 15,
      "outputs": [
        {
          "output_type": "stream",
          "text": [
            "/usr/local/lib/python3.6/dist-packages/sklearn/base.py:197: FutureWarning: From version 0.24, get_params will raise an AttributeError if a parameter cannot be retrieved as an instance attribute. Previously it would return None.\n",
            "  FutureWarning)\n"
          ],
          "name": "stderr"
        },
        {
          "output_type": "execute_result",
          "data": {
            "text/plain": [
              "CRF(algorithm='lbfgs', all_possible_states=None, all_possible_transitions=True,\n",
              "    averaging=None, c=None, c1=0.01, c2=0.1, calibration_candidates=None,\n",
              "    calibration_eta=None, calibration_max_trials=None, calibration_rate=None,\n",
              "    calibration_samples=None, delta=None, epsilon=None, error_sensitive=None,\n",
              "    gamma=None, keep_tempfiles=None, linesearch=None, max_iterations=100,\n",
              "    max_linesearch=None, min_freq=None, model_filename=None, num_memories=None,\n",
              "    pa_type=None, period=None, trainer_cls=None, variance=None, verbose=False)"
            ]
          },
          "metadata": {
            "tags": []
          },
          "execution_count": 15
        }
      ]
    },
    {
      "cell_type": "code",
      "metadata": {
        "id": "sW-kGYLGllK1"
      },
      "source": [
        "y_pred=crf.predict(X_test)"
      ],
      "execution_count": 16,
      "outputs": []
    },
    {
      "cell_type": "code",
      "metadata": {
        "colab": {
          "base_uri": "https://localhost:8080/"
        },
        "id": "qtvbAAv5lOF-",
        "outputId": "a22eeb8d-04d0-451b-e8ed-ab552b54cacc"
      },
      "source": [
        "metrics.flat_f1_score(y_test, y_pred,average='weighted',labels=crf.classes_)"
      ],
      "execution_count": 17,
      "outputs": [
        {
          "output_type": "execute_result",
          "data": {
            "text/plain": [
              "0.9715055868300791"
            ]
          },
          "metadata": {
            "tags": []
          },
          "execution_count": 17
        }
      ]
    },
    {
      "cell_type": "code",
      "metadata": {
        "colab": {
          "base_uri": "https://localhost:8080/"
        },
        "id": "OdKYs4onlvxv",
        "outputId": "f16474ff-df34-4ca9-8a7d-9777155e7ab2"
      },
      "source": [
        "\n",
        "y_pred_train=crf.predict(X_train)\n",
        "metrics.flat_f1_score(y_train, y_pred_train,average='weighted',labels=crf.classes_)"
      ],
      "execution_count": 18,
      "outputs": [
        {
          "output_type": "execute_result",
          "data": {
            "text/plain": [
              "0.9965169675831768"
            ]
          },
          "metadata": {
            "tags": []
          },
          "execution_count": 18
        }
      ]
    },
    {
      "cell_type": "markdown",
      "metadata": {
        "id": "QvFbZ6h_mH61"
      },
      "source": [
        "THE CRF Model had an F1 score of 0.97 on the test data and 0.996 on the train data. There is overfitting and we have to tune this model."
      ]
    },
    {
      "cell_type": "code",
      "metadata": {
        "colab": {
          "base_uri": "https://localhost:8080/"
        },
        "id": "kBbwp_Mll1L4",
        "outputId": "55f73c62-7f48-42fd-c3cf-9923f8500c96"
      },
      "source": [
        "metrics.flat_accuracy_score(y_test,y_pred)"
      ],
      "execution_count": 19,
      "outputs": [
        {
          "output_type": "execute_result",
          "data": {
            "text/plain": [
              "0.9716345505996496"
            ]
          },
          "metadata": {
            "tags": []
          },
          "execution_count": 19
        }
      ]
    },
    {
      "cell_type": "code",
      "metadata": {
        "colab": {
          "base_uri": "https://localhost:8080/"
        },
        "id": "omX7PHVumPwQ",
        "outputId": "93022830-a8e7-45f7-b5a4-1563c1f3ab3c"
      },
      "source": [
        "metrics.flat_accuracy_score(y_train,y_pred_train)"
      ],
      "execution_count": 20,
      "outputs": [
        {
          "output_type": "execute_result",
          "data": {
            "text/plain": [
              "0.9965207347306739"
            ]
          },
          "metadata": {
            "tags": []
          },
          "execution_count": 20
        }
      ]
    },
    {
      "cell_type": "code",
      "metadata": {
        "colab": {
          "base_uri": "https://localhost:8080/"
        },
        "id": "zZ12_LoQmVcB",
        "outputId": "0d69b376-fda0-4acb-b5e1-64a231a6bff9"
      },
      "source": [
        "print(metrics.flat_classification_report(\n",
        "    y_test, y_pred, labels=crf.classes_, digits=3\n",
        "))"
      ],
      "execution_count": 21,
      "outputs": [
        {
          "output_type": "stream",
          "text": [
            "              precision    recall  f1-score   support\n",
            "\n",
            "         DET      0.992     0.991     0.992      2541\n",
            "        NOUN      0.963     0.975     0.969      8612\n",
            "           .      1.000     0.999     1.000      3529\n",
            "         ADJ      0.909     0.864     0.886      1929\n",
            "         ADV      0.902     0.908     0.905       903\n",
            "        VERB      0.963     0.957     0.960      3950\n",
            "         ADP      0.976     0.982     0.979      2810\n",
            "         PRT      0.980     0.983     0.982       961\n",
            "         NUM      0.994     0.987     0.991      1023\n",
            "           X      1.000     0.996     0.998      1912\n",
            "        CONJ      0.994     0.996     0.995       713\n",
            "        PRON      0.998     0.998     0.998       801\n",
            "\n",
            "    accuracy                          0.972     29684\n",
            "   macro avg      0.973     0.970     0.971     29684\n",
            "weighted avg      0.971     0.972     0.972     29684\n",
            "\n"
          ],
          "name": "stdout"
        }
      ]
    },
    {
      "cell_type": "markdown",
      "metadata": {
        "id": "isopr5Rkp67-"
      },
      "source": [
        "Adjectives have a low precision, recall and F1 score"
      ]
    },
    {
      "cell_type": "code",
      "metadata": {
        "colab": {
          "base_uri": "https://localhost:8080/"
        },
        "id": "TB6dM9YDmezc",
        "outputId": "63fde4be-b66a-4e19-afc8-daaaa4f250ad"
      },
      "source": [
        "print(\"Number of Transition Features \")\n",
        "len(crf.transition_features_)"
      ],
      "execution_count": 22,
      "outputs": [
        {
          "output_type": "stream",
          "text": [
            "Number of Transition Features \n"
          ],
          "name": "stdout"
        },
        {
          "output_type": "execute_result",
          "data": {
            "text/plain": [
              "144"
            ]
          },
          "metadata": {
            "tags": []
          },
          "execution_count": 22
        }
      ]
    },
    {
      "cell_type": "code",
      "metadata": {
        "colab": {
          "base_uri": "https://localhost:8080/"
        },
        "id": "akJpn8FYm7Ge",
        "outputId": "65da7699-1620-49b0-e927-e50f47836c5f"
      },
      "source": [
        "Counter(crf.transition_features_).most_common(10)"
      ],
      "execution_count": 24,
      "outputs": [
        {
          "output_type": "execute_result",
          "data": {
            "text/plain": [
              "[(('ADJ', 'NOUN'), 4.060954),\n",
              " (('NOUN', 'NOUN'), 2.838974),\n",
              " (('NOUN', 'VERB'), 2.714596),\n",
              " (('VERB', 'PRT'), 2.663168),\n",
              " (('NOUN', 'PRT'), 2.273041),\n",
              " (('ADP', 'NOUN'), 2.235203),\n",
              " (('DET', 'NOUN'), 2.067339),\n",
              " (('PRON', 'VERB'), 2.052993),\n",
              " (('NUM', 'NOUN'), 1.982179),\n",
              " (('X', 'VERB'), 1.905777)]"
            ]
          },
          "metadata": {
            "tags": []
          },
          "execution_count": 24
        }
      ]
    },
    {
      "cell_type": "markdown",
      "metadata": {
        "id": "RCWYGpjHqBXV"
      },
      "source": [
        "An adjective is more likely to be followed by a noun"
      ]
    },
    {
      "cell_type": "code",
      "metadata": {
        "colab": {
          "base_uri": "https://localhost:8080/"
        },
        "id": "DfN_4LyWnBZF",
        "outputId": "7ca6f018-e1c3-4fef-b81f-110c143ef294"
      },
      "source": [
        "Counter(crf.transition_features_).most_common()[-10:]"
      ],
      "execution_count": 26,
      "outputs": [
        {
          "output_type": "execute_result",
          "data": {
            "text/plain": [
              "[(('PRT', 'NUM'), -1.592485),\n",
              " (('PRT', 'PRT'), -1.601084),\n",
              " (('PRON', 'DET'), -1.619706),\n",
              " (('DET', 'ADP'), -1.894368),\n",
              " (('PRON', 'PRT'), -1.951926),\n",
              " (('X', 'PRT'), -1.964785),\n",
              " (('CONJ', 'X'), -3.2181),\n",
              " (('ADP', 'X'), -3.283691),\n",
              " (('.', 'PRT'), -3.395523),\n",
              " (('DET', 'PRT'), -4.193892)]"
            ]
          },
          "metadata": {
            "tags": []
          },
          "execution_count": 26
        }
      ]
    },
    {
      "cell_type": "markdown",
      "metadata": {
        "id": "m4r6VP0PqMLu"
      },
      "source": [
        ""
      ]
    },
    {
      "cell_type": "markdown",
      "metadata": {
        "id": "3R2OpjfynY0q"
      },
      "source": [
        "#What are the most likely state features"
      ]
    },
    {
      "cell_type": "code",
      "metadata": {
        "colab": {
          "base_uri": "https://localhost:8080/"
        },
        "id": "oYidqp62nLCo",
        "outputId": "f90dd313-740e-4c7e-bece-515df348fa30"
      },
      "source": [
        "print(\"Number of State Features \",len(crf.state_features_))"
      ],
      "execution_count": 27,
      "outputs": [
        {
          "output_type": "stream",
          "text": [
            "Number of State Features  30440\n"
          ],
          "name": "stdout"
        }
      ]
    },
    {
      "cell_type": "code",
      "metadata": {
        "colab": {
          "base_uri": "https://localhost:8080/"
        },
        "id": "8kfO7pVQnqS4",
        "outputId": "bad14bc6-f854-4caf-960e-3b430939b006"
      },
      "source": [
        "Counter(crf.state_features_).most_common(10)"
      ],
      "execution_count": 29,
      "outputs": [
        {
          "output_type": "execute_result",
          "data": {
            "text/plain": [
              "[(('prev_word:will', 'VERB'), 6.36682),\n",
              " (('prefix_1:*', 'X'), 5.787324),\n",
              " (('prev_word:would', 'VERB'), 5.767208),\n",
              " (('suffix_2:ly', 'ADV'), 5.344567),\n",
              " (('prev_word:could', 'VERB'), 5.225837),\n",
              " (('is_first_capital', 'NOUN'), 5.159361),\n",
              " (('prev_word:can', 'VERB'), 4.818747),\n",
              " (('suffix_4:rest', 'NOUN'), 4.777643),\n",
              " (('next_word:1929', 'NOUN'), 4.756875),\n",
              " (('suffix_4:ment', 'NOUN'), 4.614442)]"
            ]
          },
          "metadata": {
            "tags": []
          },
          "execution_count": 29
        }
      ]
    },
    {
      "cell_type": "markdown",
      "metadata": {
        "id": "hDWHnXTZqs1b"
      },
      "source": [
        "A word will is more likely to be a verb, if a word has first word as a capital it is more likely to be a noun\n"
      ]
    },
    {
      "cell_type": "code",
      "metadata": {
        "colab": {
          "base_uri": "https://localhost:8080/"
        },
        "id": "bjegB63RnxzO",
        "outputId": "517e70cd-a01a-4892-96e9-8c293f022cc3"
      },
      "source": [
        "Counter(crf.state_features_).most_common()[-10:]"
      ],
      "execution_count": 30,
      "outputs": [
        {
          "output_type": "execute_result",
          "data": {
            "text/plain": [
              "[(('prev_word:--', 'DET'), -2.687418),\n",
              " (('prev_word:*U*', 'VERB'), -2.946117),\n",
              " (('prev_word:--', 'CONJ'), -3.122758),\n",
              " (('prev_word:moderate', 'NOUN'), -3.171468),\n",
              " (('suffix_4:rter', 'ADJ'), -3.181243),\n",
              " (('next_word:of', 'PRT'), -3.218117),\n",
              " (('suffix_4:less', 'NOUN'), -3.25398),\n",
              " (('next_word:swap', 'ADJ'), -3.457023),\n",
              " (('prev_word:his', 'VERB'), -3.518914),\n",
              " (('word_has_hyphen', 'VERB'), -3.978556)]"
            ]
          },
          "metadata": {
            "tags": []
          },
          "execution_count": 30
        }
      ]
    },
    {
      "cell_type": "markdown",
      "metadata": {
        "id": "yI92Ce0prL1K"
      },
      "source": [
        "It is less likely that a word with a hyphen is a verb and it is also likely that his is followed by a verb"
      ]
    }
  ]
}